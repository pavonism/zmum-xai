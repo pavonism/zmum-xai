{
 "cells": [
  {
   "cell_type": "code",
   "execution_count": 7,
   "id": "e103983c",
   "metadata": {},
   "outputs": [],
   "source": [
    "from typing import Dict, List\n",
    "from sklearn.base import BaseEstimator\n",
    "from sklearn.ensemble import GradientBoostingClassifier, RandomForestClassifier\n",
    "from sklearn.model_selection import train_test_split\n",
    "from sklearn.neighbors import KNeighborsClassifier\n",
    "from sklearn.neural_network import MLPClassifier\n",
    "from sklearn.pipeline import Pipeline\n",
    "from sklearn.preprocessing import MinMaxScaler\n",
    "from sklearn.svm import SVC\n",
    "from sklearn.naive_bayes import GaussianNB\n",
    "from src.data import load_dataset\n",
    "import pandas as pd\n",
    "from tqdm import tqdm\n",
    "import matplotlib.pyplot as plt\n",
    "from sklearn.inspection import PartialDependenceDisplay\n",
    "import scienceplots\n",
    "\n",
    "RANDOM_STATE = 42\n",
    "\n",
    "X, y = load_dataset()\n",
    "X_train, X_test, y_train, y_test = train_test_split(X, y, test_size=0.2, random_state=RANDOM_STATE)\n",
    "\n",
    "models : Dict[str, BaseEstimator] = {\n",
    "    \"GaussianNB\": GaussianNB(),\n",
    "    \"RandomForest\": RandomForestClassifier(random_state=RANDOM_STATE),\n",
    "    \"GradientBoosting\": GradientBoostingClassifier(random_state=RANDOM_STATE),\n",
    "    \"SVC\": SVC(kernel='rbf', random_state=RANDOM_STATE),\n",
    "    \"MLP\": Pipeline([('scaler', MinMaxScaler()), (\"MLP\", MLPClassifier(random_state=RANDOM_STATE, max_iter=300))]),\n",
    "    \"KNN\": KNeighborsClassifier(),\n",
    "}\n",
    "\n",
    "features = ['age', 'education_num', 'capital-gain', 'hours-per-week', 'capital-loss']\n",
    "categorical_features = [col for col in X.columns if X[col].dtype == 'bool']\n",
    "\n",
    "plt.style.use(['science', 'ieee'])"
   ]
  },
  {
   "cell_type": "code",
   "execution_count": 8,
   "id": "e1e6b37e",
   "metadata": {},
   "outputs": [
    {
     "name": "stderr",
     "output_type": "stream",
     "text": [
      " 67%|██████▋   | 4/6 [00:45<00:32, 16.23s/it]e:\\MINI9\\zmum-xai\\venv\\lib\\site-packages\\sklearn\\neural_network\\_multilayer_perceptron.py:691: ConvergenceWarning: Stochastic Optimizer: Maximum iterations (300) reached and the optimization hasn't converged yet.\n",
      "  warnings.warn(\n",
      "100%|██████████| 6/6 [01:44<00:00, 17.47s/it]\n"
     ]
    }
   ],
   "source": [
    "for model in tqdm(models.values()):\n",
    "    model.fit(X_train, y_train)"
   ]
  },
  {
   "cell_type": "code",
   "execution_count": null,
   "id": "83cc2a2d",
   "metadata": {},
   "outputs": [],
   "source": [
    "def explain(fitted_estimators: Dict[str, BaseEstimator], X_test: pd.DataFrame, feature: str):\n",
    "\n",
    "    _, axes = plt.subplots(ncols=2, nrows=3, figsize=(6, 8), sharey=True, constrained_layout=True)\n",
    "    axes = axes.flatten()\n",
    "\n",
    "    for index, (estimator_name, estimator) in tqdm(enumerate(fitted_estimators.items())):\n",
    "        ax = axes[index]\n",
    "\n",
    "        features_info = {\n",
    "            \"features\": [feature],\n",
    "            \"kind\": \"both\",\n",
    "            \"centered\": True,\n",
    "        } \n",
    "\n",
    "        PartialDependenceDisplay.from_estimator(\n",
    "            estimator,\n",
    "            X_test,\n",
    "            **features_info,\n",
    "            ax=ax,\n",
    "            pd_line_kw={\n",
    "                \"color\": \"blue\",\n",
    "                \"label\": \"PDP\",\n",
    "            },\n",
    "            ice_lines_kw= {\n",
    "                \"alpha\": 0.05,\n",
    "                \"color\": \"dimgrey\"\n",
    "            }\n",
    "        )\n",
    "\n",
    "        plt.title(estimator_name)\n",
    "\n",
    "    plt.savefig(f'../plots/x_test_ice_{feature}.pdf', dpi=300)"
   ]
  },
  {
   "cell_type": "code",
   "execution_count": null,
   "id": "ac480c75",
   "metadata": {},
   "outputs": [
    {
     "name": "stderr",
     "output_type": "stream",
     "text": [
      "3it [00:50, 16.53s/it]"
     ]
    }
   ],
   "source": [
    "for feature in X.columns:\n",
    "    if feature not in categorical_features:\n",
    "        explain(models, X_train, feature)"
   ]
  }
 ],
 "metadata": {
  "kernelspec": {
   "display_name": "venv",
   "language": "python",
   "name": "python3"
  },
  "language_info": {
   "codemirror_mode": {
    "name": "ipython",
    "version": 3
   },
   "file_extension": ".py",
   "mimetype": "text/x-python",
   "name": "python",
   "nbconvert_exporter": "python",
   "pygments_lexer": "ipython3",
   "version": "3.9.13"
  }
 },
 "nbformat": 4,
 "nbformat_minor": 5
}
