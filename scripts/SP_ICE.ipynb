{
 "cells": [
  {
   "cell_type": "code",
   "execution_count": null,
   "id": "e103983c",
   "metadata": {},
   "outputs": [],
   "source": [
    "from typing import List\n",
    "from sklearn.base import BaseEstimator\n",
    "from sklearn.ensemble import GradientBoostingClassifier, RandomForestClassifier\n",
    "from sklearn.model_selection import train_test_split\n",
    "from sklearn.neighbors import KNeighborsClassifier\n",
    "from sklearn.neural_network import MLPClassifier\n",
    "from sklearn.svm import SVC\n",
    "from sklearn.naive_bayes import GaussianNB\n",
    "from src.data import load_dataset\n",
    "import pandas as pd\n",
    "from tqdm import tqdm\n",
    "import matplotlib.pyplot as plt\n",
    "from sklearn.inspection import PartialDependenceDisplay\n",
    "import scienceplots\n",
    "\n",
    "RANDOM_STATE = 42\n",
    "\n",
    "X, y = load_dataset()\n",
    "X_train, X_test, y_train, y_test = train_test_split(X, y, test_size=0.2, random_state=RANDOM_STATE)\n",
    "\n",
    "models : List[BaseEstimator] = [\n",
    "    GaussianNB(),\n",
    "    RandomForestClassifier(random_state=RANDOM_STATE),\n",
    "    GradientBoostingClassifier(random_state=RANDOM_STATE),\n",
    "    SVC(random_state=RANDOM_STATE),\n",
    "    MLPClassifier(random_state=RANDOM_STATE),\n",
    "    KNeighborsClassifier(),\n",
    "]\n",
    "\n",
    "features = ['fnlwgt', 'age', 'education_num', 'capital-gain', 'hours-per-week', 'capital-loss']\n",
    "categorical_features = [col for col in X.columns if X[col].dtype == 'bool']\n",
    "\n",
    "plt.style.use(['science', 'ieee'])"
   ]
  },
  {
   "cell_type": "code",
   "execution_count": 2,
   "id": "e1e6b37e",
   "metadata": {},
   "outputs": [
    {
     "name": "stderr",
     "output_type": "stream",
     "text": [
      "100%|██████████| 6/6 [01:02<00:00, 10.39s/it]\n"
     ]
    }
   ],
   "source": [
    "fitted_estimators = [estimator.fit(X_train, y_train) for estimator in tqdm(models)]"
   ]
  },
  {
   "cell_type": "code",
   "execution_count": 4,
   "id": "83cc2a2d",
   "metadata": {},
   "outputs": [],
   "source": [
    "def explain(fitted_estimators: List[BaseEstimator], X_test: pd.DataFrame, feature: str):\n",
    "\n",
    "    _, axes = plt.subplots(ncols=2, nrows=3, figsize=(6, 8), sharey=True, constrained_layout=True)\n",
    "    axes = axes.flatten()\n",
    "\n",
    "    for index, estimator in tqdm(enumerate(fitted_estimators)):\n",
    "        ax = axes[index]\n",
    "\n",
    "        features_info = {\n",
    "            \"features\": [feature],\n",
    "            \"kind\": \"both\",\n",
    "            \"centered\": True,\n",
    "        } \n",
    "        \n",
    "        if feature in categorical_features:\n",
    "            features_info['categorical_features'] = [feature]\n",
    "\n",
    "        PartialDependenceDisplay.from_estimator(\n",
    "            estimator,\n",
    "            X_test,\n",
    "            **features_info,\n",
    "            ax=ax,\n",
    "            pd_line_kw={\n",
    "                \"color\": \"blue\",\n",
    "                \"label\": \"PDP\",\n",
    "            }\n",
    "        )\n",
    "\n",
    "        plt.title(estimator.__class__.__name__)\n",
    "\n",
    "    plt.savefig(f'../plots/ice_{feature}.pdf', dpi=300)"
   ]
  },
  {
   "cell_type": "code",
   "execution_count": 6,
   "id": "af2b9ecc",
   "metadata": {},
   "outputs": [],
   "source": [
    "plt.rcParams['text.usetex'] = False"
   ]
  },
  {
   "cell_type": "code",
   "execution_count": null,
   "id": "ac480c75",
   "metadata": {},
   "outputs": [],
   "source": [
    "for feature in X.columns:\n",
    "    explain(fitted_estimators, X_train[:10], feature)"
   ]
  }
 ],
 "metadata": {
  "kernelspec": {
   "display_name": "venv",
   "language": "python",
   "name": "python3"
  },
  "language_info": {
   "codemirror_mode": {
    "name": "ipython",
    "version": 3
   },
   "file_extension": ".py",
   "mimetype": "text/x-python",
   "name": "python",
   "nbconvert_exporter": "python",
   "pygments_lexer": "ipython3",
   "version": "3.9.13"
  }
 },
 "nbformat": 4,
 "nbformat_minor": 5
}
