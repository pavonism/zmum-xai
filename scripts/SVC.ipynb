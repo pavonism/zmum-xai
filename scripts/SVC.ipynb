{
 "cells": [
  {
   "cell_type": "code",
   "execution_count": 4,
   "id": "bb1aa817",
   "metadata": {},
   "outputs": [],
   "source": [
    "import pandas as pd\n",
    "import numpy as np\n",
    "import matplotlib.pyplot as plt\n",
    "from sklearn.svm import SVC\n",
    "from sklearn.model_selection import train_test_split\n",
    "from sklearn.metrics import classification_report, accuracy_score, roc_auc_score\n",
    "from sklearn.preprocessing import StandardScaler\n",
    "\n",
    "RANDOM_STATE = 42\n"
   ]
  },
  {
   "cell_type": "code",
   "execution_count": 7,
   "id": "93709154",
   "metadata": {},
   "outputs": [],
   "source": [
    "columns = [\n",
    "    'age', 'workclass', 'fnlwgt', 'education', 'education-num',\n",
    "    'marital-status', 'occupation', 'relationship', 'race', 'sex',\n",
    "    'capital-gain', 'capital-loss', 'hours-per-week', 'native-country', 'income'\n",
    "]"
   ]
  },
  {
   "cell_type": "code",
   "execution_count": 8,
   "id": "ce0cf3ce",
   "metadata": {},
   "outputs": [],
   "source": [
    "df = pd.read_csv('../data/raw/adult/adult.data', header=None, names=columns, index_col=False, na_values=[' ?','?'])"
   ]
  },
  {
   "cell_type": "code",
   "execution_count": 9,
   "id": "5e79f0e5",
   "metadata": {},
   "outputs": [],
   "source": [
    "df_processed = df.dropna().copy()"
   ]
  },
  {
   "cell_type": "code",
   "execution_count": 11,
   "id": "250367fb",
   "metadata": {},
   "outputs": [],
   "source": [
    "X = df_processed.drop('income', axis = 1)\n",
    "y = df_processed['income']"
   ]
  },
  {
   "cell_type": "code",
   "execution_count": 14,
   "id": "caee8722",
   "metadata": {},
   "outputs": [
    {
     "data": {
      "text/plain": [
       "Index(['workclass', 'education', 'marital-status', 'occupation',\n",
       "       'relationship', 'race', 'sex', 'native-country'],\n",
       "      dtype='object')"
      ]
     },
     "execution_count": 14,
     "metadata": {},
     "output_type": "execute_result"
    }
   ],
   "source": [
    "X.select_dtypes(include='object').columns"
   ]
  },
  {
   "cell_type": "code",
   "execution_count": 15,
   "id": "53eb4a48",
   "metadata": {},
   "outputs": [],
   "source": [
    "X_encoded = pd.get_dummies(X, drop_first=True)"
   ]
  },
  {
   "cell_type": "code",
   "execution_count": 17,
   "id": "2da88c34",
   "metadata": {},
   "outputs": [
    {
     "name": "stdout",
     "output_type": "stream",
     "text": [
      "--- Trenowanie modelu SVC ---\n",
      "\n",
      "Raport Klasyfikacji dla SVC:\n",
      "              precision    recall  f1-score   support\n",
      "\n",
      "       <=50K       0.87      0.94      0.90      4503\n",
      "        >50K       0.76      0.58      0.66      1530\n",
      "\n",
      "    accuracy                           0.85      6033\n",
      "   macro avg       0.81      0.76      0.78      6033\n",
      "weighted avg       0.84      0.85      0.84      6033\n",
      "\n",
      "Accuracy dla SVC: 0.8471738770097795\n",
      "AUC dla SVC: 0.8952848427845489\n"
     ]
    }
   ],
   "source": [
    "X_train, X_test, y_train, y_test = train_test_split(X_encoded, y, test_size=0.2, random_state=RANDOM_STATE)\n",
    "\n",
    "scaler = StandardScaler()\n",
    "X_train_scaled = scaler.fit_transform(X_train)\n",
    "X_test_scaled = scaler.fit_transform(X_test)\n",
    "\n",
    "X_train_scaled_df = pd.DataFrame(X_train_scaled, columns=X_train.columns)\n",
    "X_test_scaled_df = pd.DataFrame(X_test_scaled, columns=X_test.columns)\n",
    "\n",
    "print(\"--- Trenowanie modelu SVC ---\")\n",
    "svc = SVC(kernel='rbf', probability=True, random_state=RANDOM_STATE)\n",
    "svc.fit(X_train_scaled, y_train)\n",
    "\n",
    "y_pred_svc = svc.predict(X_test_scaled)\n",
    "y_proba_svc = svc.predict_proba(X_test_scaled)[:, 1]\n",
    "\n",
    "print(\"\\nRaport Klasyfikacji dla SVC:\")\n",
    "print(classification_report(y_test, y_pred_svc))\n",
    "print(\"Accuracy dla SVC:\", accuracy_score(y_test, y_pred_svc))\n",
    "print(\"AUC dla SVC:\", roc_auc_score(y_test, y_proba_svc))\n"
   ]
  },
  {
   "cell_type": "code",
   "execution_count": null,
   "id": "19da23d7",
   "metadata": {},
   "outputs": [],
   "source": []
  }
 ],
 "metadata": {
  "kernelspec": {
   "display_name": "base",
   "language": "python",
   "name": "python3"
  },
  "language_info": {
   "codemirror_mode": {
    "name": "ipython",
    "version": 3
   },
   "file_extension": ".py",
   "mimetype": "text/x-python",
   "name": "python",
   "nbconvert_exporter": "python",
   "pygments_lexer": "ipython3",
   "version": "3.11.5"
  }
 },
 "nbformat": 4,
 "nbformat_minor": 5
}
