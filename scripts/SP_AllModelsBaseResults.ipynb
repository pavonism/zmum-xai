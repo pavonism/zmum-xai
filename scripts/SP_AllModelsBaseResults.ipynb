{
 "cells": [
  {
   "cell_type": "code",
   "execution_count": 1,
   "id": "fa2541e6",
   "metadata": {},
   "outputs": [],
   "source": [
    "from typing import Dict\n",
    "from sklearn.base import BaseEstimator\n",
    "from sklearn.ensemble import GradientBoostingClassifier, RandomForestClassifier\n",
    "from sklearn.model_selection import train_test_split\n",
    "from sklearn.neighbors import KNeighborsClassifier\n",
    "from sklearn.neural_network import MLPClassifier\n",
    "from sklearn.pipeline import Pipeline\n",
    "from sklearn.preprocessing import MinMaxScaler\n",
    "from sklearn.svm import SVC\n",
    "from sklearn.naive_bayes import GaussianNB\n",
    "from src.data import load_dataset\n",
    "import pandas as pd\n",
    "from pandas.io.formats import style\n",
    "from tqdm import tqdm\n",
    "\n",
    "RANDOM_STATE = 42\n",
    "\n",
    "X, y = load_dataset()\n",
    "X_train, X_test, y_train, y_test = train_test_split(X, y, test_size=0.2, random_state=RANDOM_STATE)\n",
    "\n",
    "models : Dict[str, BaseEstimator] = {\n",
    "    \"GaussianNB\": GaussianNB(),\n",
    "    \"RandomForest\": RandomForestClassifier(random_state=RANDOM_STATE),\n",
    "    \"GradientBoosting\": GradientBoostingClassifier(random_state=RANDOM_STATE),\n",
    "    \"SVC\": SVC(kernel='rbf', random_state=RANDOM_STATE),\n",
    "    \"MLP\": Pipeline([('scaler', MinMaxScaler()), (\"MLP\", MLPClassifier(random_state=RANDOM_STATE, max_iter=300))]),\n",
    "    \"KNN\": KNeighborsClassifier(),\n",
    "}"
   ]
  },
  {
   "cell_type": "code",
   "execution_count": 2,
   "id": "0af9a650",
   "metadata": {},
   "outputs": [
    {
     "name": "stderr",
     "output_type": "stream",
     "text": [
      "100%|██████████| 6/6 [42:00<00:00, 420.00s/it]\n"
     ]
    }
   ],
   "source": [
    "from sklearn.model_selection import StratifiedKFold, cross_val_score\n",
    "from sklearn.metrics import precision_score, recall_score\n",
    "\n",
    "results = []\n",
    "kf = StratifiedKFold(n_splits=5, shuffle=True, random_state=RANDOM_STATE)\n",
    "\n",
    "for model_name, model in tqdm(models.items()):\n",
    "    accuracy_scores = cross_val_score(model, X, y, cv=kf, scoring='accuracy')\n",
    "    precision_scores = cross_val_score(model, X, y, cv=kf, scoring='precision_macro')\n",
    "    recall_scores = cross_val_score(model, X, y, cv=kf, scoring='recall_macro')\n",
    "    results.append({\n",
    "        'Model': model_name,\n",
    "        'Accuracy': accuracy_scores.mean(),\n",
    "        'Accuracy std': accuracy_scores.std(),\n",
    "        'Precision': precision_scores.mean(),\n",
    "        'Recall': recall_scores.mean()\n",
    "    })\n"
   ]
  },
  {
   "cell_type": "code",
   "execution_count": 3,
   "id": "ca05cf30",
   "metadata": {},
   "outputs": [],
   "source": [
    "results_df = pd.DataFrame(results)\n",
    "results_df = results_df.drop(columns=[\"Accuracy std\"])"
   ]
  },
  {
   "cell_type": "code",
   "execution_count": 4,
   "id": "0e46e5e8",
   "metadata": {},
   "outputs": [
    {
     "data": {
      "text/html": [
       "<div>\n",
       "<style scoped>\n",
       "    .dataframe tbody tr th:only-of-type {\n",
       "        vertical-align: middle;\n",
       "    }\n",
       "\n",
       "    .dataframe tbody tr th {\n",
       "        vertical-align: top;\n",
       "    }\n",
       "\n",
       "    .dataframe thead th {\n",
       "        text-align: right;\n",
       "    }\n",
       "</style>\n",
       "<table border=\"1\" class=\"dataframe\">\n",
       "  <thead>\n",
       "    <tr style=\"text-align: right;\">\n",
       "      <th>Model</th>\n",
       "      <th>Accuracy</th>\n",
       "      <th>Precision</th>\n",
       "      <th>Recall</th>\n",
       "    </tr>\n",
       "    <tr>\n",
       "      <th></th>\n",
       "      <th></th>\n",
       "      <th></th>\n",
       "      <th></th>\n",
       "    </tr>\n",
       "  </thead>\n",
       "  <tbody>\n",
       "    <tr>\n",
       "      <th>GradientBoosting</th>\n",
       "      <td>\\textbf{0.87}</td>\n",
       "      <td>\\textbf{0.83}</td>\n",
       "      <td>0.78</td>\n",
       "    </tr>\n",
       "    <tr>\n",
       "      <th>MLP</th>\n",
       "      <td>0.85</td>\n",
       "      <td>0.80</td>\n",
       "      <td>0.78</td>\n",
       "    </tr>\n",
       "    <tr>\n",
       "      <th>RandomForest</th>\n",
       "      <td>0.85</td>\n",
       "      <td>0.80</td>\n",
       "      <td>0.77</td>\n",
       "    </tr>\n",
       "    <tr>\n",
       "      <th>KNN</th>\n",
       "      <td>0.84</td>\n",
       "      <td>0.79</td>\n",
       "      <td>0.78</td>\n",
       "    </tr>\n",
       "    <tr>\n",
       "      <th>GaussianNB</th>\n",
       "      <td>0.82</td>\n",
       "      <td>0.76</td>\n",
       "      <td>\\textbf{0.80}</td>\n",
       "    </tr>\n",
       "    <tr>\n",
       "      <th>SVC</th>\n",
       "      <td>0.80</td>\n",
       "      <td>0.77</td>\n",
       "      <td>0.62</td>\n",
       "    </tr>\n",
       "  </tbody>\n",
       "</table>\n",
       "</div>"
      ],
      "text/plain": [
       "Model                  Accuracy      Precision         Recall\n",
       "                                                             \n",
       "GradientBoosting  \\textbf{0.87}  \\textbf{0.83}           0.78\n",
       "MLP                        0.85           0.80           0.78\n",
       "RandomForest               0.85           0.80           0.77\n",
       "KNN                        0.84           0.79           0.78\n",
       "GaussianNB                 0.82           0.76  \\textbf{0.80}\n",
       "SVC                        0.80           0.77           0.62"
      ]
     },
     "execution_count": 4,
     "metadata": {},
     "output_type": "execute_result"
    }
   ],
   "source": [
    "results_df = results_df.set_index('Model').sort_values(by='Accuracy', ascending=False)\n",
    "results_df.columns.name = results_df.index.name\n",
    "results_df.index.name = \"\"\n",
    "# Find the maximum value for each column\n",
    "max_values = results_df.astype(float).max()\n",
    "\n",
    "def highlight_max(val, col):\n",
    "    try:\n",
    "        val_float = float(val)\n",
    "        if val_float == max_values[col]:\n",
    "            return f\"\\\\textbf{{{val:.2f}}}\"\n",
    "        else:\n",
    "            return f\"{val:.2f}\"\n",
    "    except:\n",
    "        pass\n",
    "    return val\n",
    "\n",
    "results_df = results_df.apply(lambda col: [highlight_max(val, col.name) for val in col], axis=0)\n",
    "results_df"
   ]
  },
  {
   "cell_type": "code",
   "execution_count": 5,
   "id": "b4a8e772",
   "metadata": {},
   "outputs": [],
   "source": [
    "style.Styler(results_df).to_latex(\n",
    "    \"../tables/base_results.tex\",\n",
    "    column_format=\"lccc\",\n",
    "    caption=\"Wyniki wybranych klasyfikatorów na zbiorze testowym przy zastosowaniu domyślnych parametrów.\",\n",
    "    label=\"tab:base-results\",\n",
    "    environment=\"table\",\n",
    "    position=\"t\",\n",
    "    position_float=\"centering\",\n",
    "    multicol_align=\"c\",\n",
    "    hrules=True,\n",
    ")"
   ]
  }
 ],
 "metadata": {
  "kernelspec": {
   "display_name": "venv",
   "language": "python",
   "name": "python3"
  },
  "language_info": {
   "codemirror_mode": {
    "name": "ipython",
    "version": 3
   },
   "file_extension": ".py",
   "mimetype": "text/x-python",
   "name": "python",
   "nbconvert_exporter": "python",
   "pygments_lexer": "ipython3",
   "version": "3.9.13"
  }
 },
 "nbformat": 4,
 "nbformat_minor": 5
}
