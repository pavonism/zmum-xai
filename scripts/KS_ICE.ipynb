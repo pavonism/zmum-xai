{
 "cells": [
  {
   "cell_type": "code",
   "execution_count": null,
   "id": "8bdddba1",
   "metadata": {},
   "outputs": [],
   "source": [
    "import sys\n",
    "sys.path.append('..')\n",
    "from src.data import load_dataset\n",
    "\n",
    "import joblib\n",
    "\n",
    "from sklearn.model_selection import train_test_split\n",
    "from PERMUTATION_FUNC import get_permutation_importance"
   ]
  },
  {
   "cell_type": "code",
   "execution_count": null,
   "id": "df5dfbe4",
   "metadata": {},
   "outputs": [],
   "source": [
    "X, y = load_dataset()\n",
    "y = y.apply(lambda val: 1 if '>50K' in val else 0)"
   ]
  },
  {
   "cell_type": "code",
   "execution_count": null,
   "id": "13ee7030",
   "metadata": {},
   "outputs": [],
   "source": [
    "X_train, X_test, y_train, y_test = train_test_split(X, y, test_size = 0.2, random_state = 42)"
   ]
  },
  {
   "cell_type": "code",
   "execution_count": null,
   "id": "bf834e76",
   "metadata": {},
   "outputs": [],
   "source": [
    "nb_model = joblib.load('../models/naive_model.pkl')\n",
    "importance_df_NB = get_permutation_importance(nb_model, X_test, y_test)"
   ]
  },
  {
   "cell_type": "code",
   "execution_count": null,
   "id": "6e1f8f97",
   "metadata": {},
   "outputs": [],
   "source": [
    "mlp_model = joblib.load('../models/mlp_model.pkl')\n",
    "importance_df_mlp = get_permutation_importance(mlp_model, X_test, y_test)"
   ]
  },
  {
   "cell_type": "code",
   "execution_count": null,
   "id": "45202378",
   "metadata": {},
   "outputs": [],
   "source": [
    "# svc_model = joblib.load('../models/svc_model.pkl')\n",
    "# importance_df_svc = get_permutation_importance(svc_model, X_test, y_test)"
   ]
  },
  {
   "cell_type": "code",
   "execution_count": null,
   "id": "a7a1e0f1",
   "metadata": {},
   "outputs": [],
   "source": [
    "rf_model = joblib.load('../models/rf_model.pkl')\n",
    "importance_df_rf = get_permutation_importance(rf_model, X_test, y_test)"
   ]
  },
  {
   "cell_type": "code",
   "execution_count": null,
   "id": "a736f520",
   "metadata": {},
   "outputs": [],
   "source": []
  },
  {
   "cell_type": "code",
   "execution_count": null,
   "id": "e8c17fbc",
   "metadata": {},
   "outputs": [],
   "source": []
  },
  {
   "cell_type": "code",
   "execution_count": null,
   "id": "0d2209d4",
   "metadata": {},
   "outputs": [],
   "source": []
  },
  {
   "cell_type": "code",
   "execution_count": null,
   "id": "58dd0ea5",
   "metadata": {},
   "outputs": [],
   "source": []
  },
  {
   "cell_type": "code",
   "execution_count": null,
   "id": "54f10dde",
   "metadata": {},
   "outputs": [],
   "source": []
  },
  {
   "cell_type": "code",
   "execution_count": null,
   "id": "fe0a8e90",
   "metadata": {},
   "outputs": [],
   "source": []
  }
 ],
 "metadata": {
  "kernelspec": {
   "display_name": "Python 3",
   "language": "python",
   "name": "python3"
  },
  "language_info": {
   "codemirror_mode": {
    "name": "ipython",
    "version": 3
   },
   "file_extension": ".py",
   "mimetype": "text/x-python",
   "name": "python",
   "nbconvert_exporter": "python",
   "pygments_lexer": "ipython3",
   "version": "3.13.1"
  }
 },
 "nbformat": 4,
 "nbformat_minor": 5
}
